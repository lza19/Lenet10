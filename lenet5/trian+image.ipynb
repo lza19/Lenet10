{
 "cells": [
  {
   "cell_type": "code",
   "execution_count": null,
   "id": "8c88759a",
   "metadata": {},
   "outputs": [],
   "source": [
    "from matplotlib import pyplot as plt\n",
    "import numpy as np\n",
    "from tensorflow.keras.preprocessing.image import ImageDataGenerator\n",
    "\n",
    "# เตรียม datagen พร้อม normalize\n",
    "data = ImageDataGenerator(rescale=1./255)\n",
    "\n",
    "# โหลดชุดเทรน\n",
    "train = data.flow_from_directory(\n",
    "    r'C:\\InceptionNet\\mnist_png\\train',      # เช่น 'dataset/train'\n",
    "    target_size=(32, 32),\n",
    "    color_mode='grayscale',\n",
    "   class_mode='categorical',\n",
    "    batch_size=32,\n",
    "    shuffle=True\n",
    ")\n",
    "\n",
    "# โหลดชุดทดสอบ\n",
    "test = data.flow_from_directory(\n",
    "    r'C:\\InceptionNet\\mnist_png\\test',       # เช่น 'dataset/test'\n",
    "    target_size=(32, 32),\n",
    "    color_mode='grayscale',\n",
    "    class_mode='categorical',\n",
    "    batch_size=32,\n",
    "    shuffle=False\n",
    ")\n",
    "\n",
    "images, labels = next(train)  # ดึงภาพชุดแรกจาก train\n",
    "\n",
    "# แสดงภาพ 9 รูปแรก\n",
    "plt.figure(figsize=(8, 8))\n",
    "for i in range(9):\n",
    "    plt.subplot(3, 3, i+1)\n",
    "    plt.imshow(images[i].squeeze(), cmap='gray')  # ถ้า grayscale ต้องใช้ squeeze() กับ cmap='gray'\n",
    "    plt.title(f\"Label: {np.argmax(labels[i])}\")\n",
    "    plt.axis('off')\n",
    "plt.tight_layout()\n",
    "plt.show()\n"
   ]
  },
  {
   "cell_type": "code",
   "execution_count": null,
   "id": "44dc4a23",
   "metadata": {},
   "outputs": [],
   "source": [
    "from tensorflow.keras import Input, Model\n",
    "from tensorflow.keras.layers import Conv2D, AveragePooling2D, Flatten, Dense\n",
    "\n",
    "inputs = Input((32, 32, 1))\n",
    "\n",
    "x = Conv2D(6, (5,5),strides=1, activation='relu')(inputs)    # 28×28×6\n",
    "\n",
    "x = AveragePooling2D((2,2), strides=2)(x)          # 14×14×6\n",
    "\n",
    "x = Conv2D(16, (5,5),strides=1, activation='relu')(x)       # 10×10×16\n",
    "\n",
    "x = AveragePooling2D((2,2), strides=2)(x)         # 5×5×16\n",
    "\n",
    "x = Flatten()(x)                                  # 400\n",
    "\n",
    "x = Dense(120, activation='relu')(x)              # 120\n",
    "\n",
    "x = Dense(84, activation='relu')(x)               # 84\n",
    "\n",
    "outputs = Dense(10, activation='softmax')(x)      # 10\n",
    "\n",
    "model = Model(inputs=inputs, outputs=outputs)\n",
    "model.summary()"
   ]
  },
  {
   "cell_type": "code",
   "execution_count": null,
   "id": "ab3c1ffc",
   "metadata": {},
   "outputs": [],
   "source": [
    "model.compile(\n",
    "    optimizer='adam',                        # หรือ 'sgd' ก็ได้\n",
    "    loss='categorical_crossentropy',         # เพราะ label ถูก one-hot\n",
    "    metrics=['accuracy']\n",
    ")\n"
   ]
  },
  {
   "cell_type": "code",
   "execution_count": null,
   "id": "516b1ad6",
   "metadata": {},
   "outputs": [],
   "source": [
    "model.fit(\n",
    "    train,\n",
    "    validation_data=test,    # หรือใช้ validation_split แทน\n",
    "    epochs=10\n",
    ")\n"
   ]
  },
  {
   "cell_type": "code",
   "execution_count": null,
   "id": "18da548d",
   "metadata": {},
   "outputs": [],
   "source": [
    "model.save('lenet5_mnist.h5')"
   ]
  }
 ],
 "metadata": {
  "language_info": {
   "name": "python"
  }
 },
 "nbformat": 4,
 "nbformat_minor": 5
}
