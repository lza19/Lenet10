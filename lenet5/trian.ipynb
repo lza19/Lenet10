{
 "cells": [
  {
   "cell_type": "code",
   "execution_count": 1,
   "id": "ae7887de",
   "metadata": {},
   "outputs": [
    {
     "name": "stdout",
     "output_type": "stream",
     "text": [
      "Model: \"model\"\n",
      "_________________________________________________________________\n",
      " Layer (type)                Output Shape              Param #   \n",
      "=================================================================\n",
      " input_1 (InputLayer)        [(None, 32, 32, 1)]       0         \n",
      "                                                                 \n",
      " conv2d (Conv2D)             (None, 28, 28, 6)         156       \n",
      "                                                                 \n",
      " average_pooling2d (AverageP  (None, 14, 14, 6)        0         \n",
      " ooling2D)                                                       \n",
      "                                                                 \n",
      " conv2d_1 (Conv2D)           (None, 10, 10, 16)        2416      \n",
      "                                                                 \n",
      " average_pooling2d_1 (Averag  (None, 5, 5, 16)         0         \n",
      " ePooling2D)                                                     \n",
      "                                                                 \n",
      " flatten (Flatten)           (None, 400)               0         \n",
      "                                                                 \n",
      " dense (Dense)               (None, 120)               48120     \n",
      "                                                                 \n",
      " dense_1 (Dense)             (None, 84)                10164     \n",
      "                                                                 \n",
      " dense_2 (Dense)             (None, 10)                850       \n",
      "                                                                 \n",
      "=================================================================\n",
      "Total params: 61,706\n",
      "Trainable params: 61,706\n",
      "Non-trainable params: 0\n",
      "_________________________________________________________________\n"
     ]
    }
   ],
   "source": [
    "from tensorflow.keras import Input, Model\n",
    "from tensorflow.keras.layers import Conv2D, AveragePooling2D, Flatten, Dense\n",
    "\n",
    "inputs = Input((32, 32, 1))\n",
    "\n",
    "x = Conv2D(6, (5,5),strides=1, activation='relu')(inputs)    # 28×28×6\n",
    "\n",
    "x = AveragePooling2D((2,2), strides=2)(x)          # 14×14×6\n",
    "\n",
    "x = Conv2D(16, (5,5),strides=1, activation='relu')(x)       # 10×10×16\n",
    "\n",
    "x = AveragePooling2D((2,2), strides=2)(x)         # 5×5×16\n",
    "\n",
    "x = Flatten()(x)                                  # 400\n",
    "\n",
    "x = Dense(120, activation='relu')(x)              # 120\n",
    "\n",
    "x = Dense(84, activation='relu')(x)               # 84\n",
    "\n",
    "outputs = Dense(10, activation='softmax')(x)      # 10\n",
    "\n",
    "model = Model(inputs=inputs, outputs=outputs)\n",
    "model.summary()"
   ]
  },
  {
   "cell_type": "code",
   "execution_count": 2,
   "id": "e63c2c4f",
   "metadata": {},
   "outputs": [],
   "source": [
    "from tensorflow.keras.datasets import mnist\n",
    "from tensorflow.keras.utils import to_categorical\n",
    "import numpy as np\n",
    "\n",
    "# โหลดข้อมูล MNIST\n",
    "(x_train, y_train), (x_test, y_test) = mnist.load_data()\n",
    "\n",
    "# ขยายขนาดภาพเป็น 32x32 (LeNet ต้องการภาพขนาด 32x32)\n",
    "x_train = np.pad(x_train, ((0,0),(2,2),(2,2)), mode='constant')\n",
    "x_test = np.pad(x_test, ((0,0),(2,2),(2,2)), mode='constant')\n",
    "\n",
    "# เปลี่ยนรูปร่างให้เป็น 4 มิติ และ normalize\n",
    "x_train = x_train.reshape(-1, 32, 32, 1).astype('float32') / 255.0\n",
    "x_test = x_test.reshape(-1, 32, 32, 1).astype('float32') / 255.0\n",
    "\n",
    "# แปลง label เป็น one-hot\n",
    "y_train = to_categorical(y_train, 10)\n",
    "y_test = to_categorical(y_test, 10)\n"
   ]
  },
  {
   "cell_type": "code",
   "execution_count": 3,
   "id": "2ea750ca",
   "metadata": {},
   "outputs": [],
   "source": [
    "model.compile(optimizer='adam',\n",
    "              loss='categorical_crossentropy',\n",
    "              metrics=['accuracy'])\n"
   ]
  },
  {
   "cell_type": "code",
   "execution_count": null,
   "id": "d043e30d",
   "metadata": {},
   "outputs": [
    {
     "name": "stdout",
     "output_type": "stream",
     "text": [
      "Epoch 1/10\n",
      "938/938 [==============================] - 27s 9ms/step - loss: 0.2623 - accuracy: 0.9220 - val_loss: 0.0900 - val_accuracy: 0.9713\n",
      "Epoch 2/10\n",
      "938/938 [==============================] - 7s 8ms/step - loss: 0.0805 - accuracy: 0.9757 - val_loss: 0.0621 - val_accuracy: 0.9809\n",
      "Epoch 3/10\n",
      "938/938 [==============================] - 7s 8ms/step - loss: 0.0565 - accuracy: 0.9834 - val_loss: 0.0459 - val_accuracy: 0.9855\n",
      "Epoch 4/10\n",
      "938/938 [==============================] - 7s 8ms/step - loss: 0.0445 - accuracy: 0.9855 - val_loss: 0.0413 - val_accuracy: 0.9863\n",
      "Epoch 5/10\n",
      "938/938 [==============================] - 7s 8ms/step - loss: 0.0360 - accuracy: 0.9888 - val_loss: 0.0371 - val_accuracy: 0.9872\n",
      "Epoch 6/10\n",
      "938/938 [==============================] - 8s 8ms/step - loss: 0.0306 - accuracy: 0.9905 - val_loss: 0.0344 - val_accuracy: 0.9881\n",
      "Epoch 7/10\n",
      "938/938 [==============================] - 8s 9ms/step - loss: 0.0264 - accuracy: 0.9917 - val_loss: 0.0346 - val_accuracy: 0.9893\n",
      "Epoch 8/10\n",
      "938/938 [==============================] - 8s 8ms/step - loss: 0.0222 - accuracy: 0.9932 - val_loss: 0.0323 - val_accuracy: 0.9911\n",
      "Epoch 9/10\n",
      "938/938 [==============================] - 8s 8ms/step - loss: 0.0195 - accuracy: 0.9937 - val_loss: 0.0423 - val_accuracy: 0.9857\n",
      "Epoch 10/10\n",
      "932/938 [============================>.] - ETA: 0s - loss: 0.0178 - accuracy: 0.9941"
     ]
    }
   ],
   "source": [
    "model.fit(x_train, y_train,\n",
    "          epochs=10,\n",
    "          batch_size=64,\n",
    "          validation_data=(x_test, y_test))\n"
   ]
  },
  {
   "cell_type": "code",
   "execution_count": null,
   "id": "2477e72d",
   "metadata": {},
   "outputs": [],
   "source": [
    "loss, acc = model.evaluate(x_test, y_test)\n",
    "print(f'Test accuracy: {acc:.4f}')\n"
   ]
  },
  {
   "cell_type": "code",
   "execution_count": null,
   "id": "ef5e1fd3",
   "metadata": {},
   "outputs": [],
   "source": [
    "model.save('lenet5_mnist.h5')"
   ]
  }
 ],
 "metadata": {
  "kernelspec": {
   "display_name": "Python 3",
   "language": "python",
   "name": "python3"
  },
  "language_info": {
   "codemirror_mode": {
    "name": "ipython",
    "version": 3
   },
   "file_extension": ".py",
   "mimetype": "text/x-python",
   "name": "python",
   "nbconvert_exporter": "python",
   "pygments_lexer": "ipython3",
   "version": "3.10.9"
  }
 },
 "nbformat": 4,
 "nbformat_minor": 5
}
